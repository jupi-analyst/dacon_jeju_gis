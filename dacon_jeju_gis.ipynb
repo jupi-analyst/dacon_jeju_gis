{
 "cells": [
  {
   "cell_type": "markdown",
   "metadata": {},
   "source": [
    "# < 제주 읍면동별, 위치별 총이용금액 분석 >\n",
    "## * 총 이용금액과 건수를 기준으로 시각화를 진행했습니다. \n",
    "## 먼저, 해보고싶은 데이터 탐색을 진행해 봤구요. 읍면동별 시각화는 그래프보단 맵상에서 표현하는게 맞다고 생각하여 leaflet을 이용해 시각화했고 파일이 커져서 샤이니에 따로 띄어서 보여드렸습니다. 추후 수정 업로드 할 예정입니다.\n",
    "\n",
    "\n",
    "\n",
    "### <별도로 이용한데이터>\n",
    "* http://map.ngii.go.kr/ms/map/NlipMap.do?tabGb=statsMap (국토정보플랫폼 국토정보맵 - 법정동 생산가능인구)\n",
    "* http://data.nsdi.go.kr/dataset/15145 (국가공간정보포털 - 행정구역_읍면동(법정))\n",
    "<br>이 shp데이터를 이용해 제공된 데이터와 맵핑하여 사용했습니다."
   ]
  },
  {
   "cell_type": "markdown",
   "metadata": {},
   "source": [
    "# 목차\n",
    "## 1. 데이터 로드 <br>2. 데이터 탐색 <br>3. 읍면동별 시각화(leaflet R shiny)"
   ]
  },
  {
   "cell_type": "markdown",
   "metadata": {},
   "source": [
    "## 1. 데이터 로드"
   ]
  },
  {
   "cell_type": "markdown",
   "metadata": {},
   "source": [
    "### 작업디렉토리 설정, 필요한 라이브러리 설치 및 로드"
   ]
  },
  {
   "cell_type": "code",
   "execution_count": 3,
   "metadata": {},
   "outputs": [
    {
     "data": {
      "text/html": [
       "'C:/Users/USER/Documents/sh_R/jeju_gis'"
      ],
      "text/latex": [
       "'C:/Users/USER/Documents/sh\\_R/jeju\\_gis'"
      ],
      "text/markdown": [
       "'C:/Users/USER/Documents/sh_R/jeju_gis'"
      ],
      "text/plain": [
       "[1] \"C:/Users/USER/Documents/sh_R/jeju_gis\""
      ]
     },
     "metadata": {},
     "output_type": "display_data"
    },
    {
     "name": "stderr",
     "output_type": "stream",
     "text": [
      "NanumGothic already registered with pdfFonts().\n",
      "NanumGothicExtraBold already registered with pdfFonts().\n",
      "NanumGothic Light already registered with pdfFonts().\n",
      "NanumGothic already registered with windowsFonts().\n",
      "NanumGothicExtraBold already registered with windowsFonts().\n",
      "NanumGothic Light already registered with windowsFonts().\n"
     ]
    },
    {
     "data": {
      "text/html": [
       "<dl>\n",
       "\t<dt>$serif</dt>\n",
       "\t\t<dd>'TT Times New Roman'</dd>\n",
       "\t<dt>$sans</dt>\n",
       "\t\t<dd>'TT Arial'</dd>\n",
       "\t<dt>$mono</dt>\n",
       "\t\t<dd>'TT Courier New'</dd>\n",
       "\t<dt>$NanumGothic</dt>\n",
       "\t\t<dd>'NanumGothic'</dd>\n",
       "\t<dt>$NanumGothicExtraBold</dt>\n",
       "\t\t<dd>'NanumGothicExtraBold'</dd>\n",
       "\t<dt>$`NanumGothic Light`</dt>\n",
       "\t\t<dd>'NanumGothic Light'</dd>\n",
       "</dl>\n"
      ],
      "text/latex": [
       "\\begin{description}\n",
       "\\item[\\$serif] 'TT Times New Roman'\n",
       "\\item[\\$sans] 'TT Arial'\n",
       "\\item[\\$mono] 'TT Courier New'\n",
       "\\item[\\$NanumGothic] 'NanumGothic'\n",
       "\\item[\\$NanumGothicExtraBold] 'NanumGothicExtraBold'\n",
       "\\item[\\$`NanumGothic Light`] 'NanumGothic Light'\n",
       "\\end{description}\n"
      ],
      "text/markdown": [
       "$serif\n",
       ":   'TT Times New Roman'\n",
       "$sans\n",
       ":   'TT Arial'\n",
       "$mono\n",
       ":   'TT Courier New'\n",
       "$NanumGothic\n",
       ":   'NanumGothic'\n",
       "$NanumGothicExtraBold\n",
       ":   'NanumGothicExtraBold'\n",
       "$`NanumGothic Light`\n",
       ":   'NanumGothic Light'\n",
       "\n",
       "\n"
      ],
      "text/plain": [
       "$serif\n",
       "[1] \"TT Times New Roman\"\n",
       "\n",
       "$sans\n",
       "[1] \"TT Arial\"\n",
       "\n",
       "$mono\n",
       "[1] \"TT Courier New\"\n",
       "\n",
       "$NanumGothic\n",
       "[1] \"NanumGothic\"\n",
       "\n",
       "$NanumGothicExtraBold\n",
       "[1] \"NanumGothicExtraBold\"\n",
       "\n",
       "$`NanumGothic Light`\n",
       "[1] \"NanumGothic Light\"\n"
      ]
     },
     "metadata": {},
     "output_type": "display_data"
    }
   ],
   "source": [
    "getwd()\n",
    "setwd(\"C:/Users/USER/Documents/sh_R/jeju_gis\")\n",
    "library(tidyverse)\n",
    "library(extrafont)\n",
    "library(ggplot2)\n",
    "library(RColorBrewer)\n",
    "library(scales)\n",
    "library(gridExtra)\n",
    "library(reshape2)\n",
    "library(leaflet)\n",
    "library(leaflet.extras)\n",
    "library(htmltools)\n",
    "library(htmlwidgets)\n",
    "library(rgdal)\n",
    "library(sp)\n",
    "#font_import(pattern = 'NanumGothic')\n",
    "loadfonts()\n",
    "loadfonts(dev=\"win\")\n",
    "windowsFonts()\n",
    "theme_update(text=element_text(family=\"NanumGothic\"))"
   ]
  },
  {
   "cell_type": "markdown",
   "metadata": {},
   "source": [
    "### 데이터 로드"
   ]
  },
  {
   "cell_type": "code",
   "execution_count": 4,
   "metadata": {},
   "outputs": [],
   "source": [
    "options(digits = 10)\n",
    "dat5 <- read.table('KRI-DAC_Jeju_data5.txt', fileEncoding = 'UTF-8', sep = ',', header = TRUE)\n",
    "dat6 <- read.table('KRI-DAC_Jeju_data6.txt', fileEncoding = 'UTF-8', sep = ',', header = TRUE)\n",
    "dat7 <- read.table('KRI-DAC_Jeju_data7.txt', fileEncoding = 'UTF-8', sep = ',', header = TRUE)\n",
    "dat8 <- read.table('KRI-DAC_Jeju_data8.txt', fileEncoding = 'UTF-8', sep = ',', header = TRUE)\n",
    "dat7 %>%\n",
    "  select(-X, -Y) -> dat7"
   ]
  },
  {
   "cell_type": "markdown",
   "metadata": {},
   "source": [
    "### 데이터 정제 및 전처리"
   ]
  },
  {
   "cell_type": "markdown",
   "metadata": {},
   "source": [
    "* 시간대를 데이터 명세에 따라 같이 나눠 timeName이라는 변수를 하나 만들어 줬습니다. 그리고 좌표계를 위경도 좌표계(WGS84)로 변경해 주었구요."
   ]
  },
  {
   "cell_type": "code",
   "execution_count": 8,
   "metadata": {},
   "outputs": [
    {
     "ename": "ERROR",
     "evalue": "Error in rbind(dat5, dat6, dat7, dat8): 객체 'dat5'를 찾을 수 없습니다\n",
     "output_type": "error",
     "traceback": [
      "Error in rbind(dat5, dat6, dat7, dat8): 객체 'dat5'를 찾을 수 없습니다\nTraceback:\n",
      "1. rbind(dat5, dat6, dat7, dat8)"
     ]
    }
   ],
   "source": [
    "dat <- rbind(dat5,dat6,dat7,dat8)\n",
    "dat$YM <- as.character(dat$YM)\n",
    "dat <- dat %>%\n",
    "  select(-OBJECTID, -Field1)\n",
    "\n",
    "# dat %>%\n",
    "#   mutate(SIGUNGU = ifelse(SIGUNGU == '제주시', 'jeju-si', 'seoguipo-si')) -> dat\n",
    "dat <- dat %>%\n",
    "  mutate(timeName = ifelse(Time %in% c('03시','04시','05시', '06시'), '새벽', \n",
    "                           ifelse(Time %in% c('07시','08시','09시','10시','11시'), '오전',\n",
    "                                  ifelse(Time %in% c('12시','13시','14시'), '점심', \n",
    "                                         ifelse(Time %in% c('15시','16시','17시','18시'), '오후',\n",
    "                                                ifelse(Time %in% c('19시','20시','21시', '22시'), '저녁',\n",
    "                                                       ifelse(Time  %in% c('23시','00시','01시','02시'), '심야', '무승인')))))))\n",
    "## 좌표계변환 \n",
    "convertCoordSystem <- function(long, lat, from.crs, to.crs){\n",
    "  xy <- data.frame(long=long, lat=lat)\n",
    "  coordinates(xy) <- ~long+lat\n",
    "  \n",
    "  from.crs <- CRS(from.crs)\n",
    "  from.coordinates <- SpatialPoints(xy, proj4string=from.crs)\n",
    "  \n",
    "  to.crs <- CRS(to.crs)\n",
    "  changed <- as.data.frame(SpatialPoints(spTransform(from.coordinates, to.crs)))\n",
    "  names(changed) <- c(\"long\", \"lat\")\n",
    "  \n",
    "  return(changed)\n",
    "}\n",
    "from.crs = \"+proj=tmerc +lat_0=38 +lon_0=127.5 +k=0.9996 +x_0=1000000 +y_0=2000000 +ellps=GRS80 +towgs84=0,0,0,0,0,0,0 +units=m +no_defs\"\n",
    "# from.crs = \"+proj=tmerc +lat_0=38 +lon_0=127.5 +k=0.9996 +x_0=1000000 +y_0=2000000 +ellps=GRS80 +units=m +no_defs\" \n",
    "to.crs = \"+proj=longlat +ellps=WGS84 +datum=WGS84 +no_defs\" # 위경도 좌표계\n",
    "coord <- convertCoordSystem(dat$POINT_X, dat$POINT_Y, from.crs, to.crs)\n",
    "dat <- cbind(dat, coord)\n",
    "rm(coord); rm(from.crs); rm(to.crs); rm(convertCoordSystem);\n",
    "rm(dat5);rm(dat6);rm(dat7);rm(dat8);\n",
    "\n",
    "#write.csv(dat, 'KRI_DAC_Jeju.csv') # 데이터 저장\n",
    "dat <- read.csv('KRI_DAC_Jeju.csv')\n",
    "\n",
    "dat$timeName <- factor(dat$timeName, levels = c('새벽','오전','점심','오후','저녁','심야','무승인'))"
   ]
  },
  {
   "cell_type": "markdown",
   "metadata": {},
   "source": [
    "## 2. EDA 시각화"
   ]
  },
  {
   "cell_type": "markdown",
   "metadata": {},
   "source": [
    "### 제주시, 서귀포시 5~8월까지 총 이용금액 비교"
   ]
  },
  {
   "cell_type": "markdown",
   "metadata": {},
   "source": [
    "* 제주시와 서귀포시를 나눠 5~8월까지의 총 이용금액을 비교해 봤습니다.<br>\n",
    "결과는 제주시와 서귀포가 약 3배 차이가 났습니다"
   ]
  },
  {
   "cell_type": "code",
   "execution_count": 9,
   "metadata": {},
   "outputs": [
    {
     "name": "stderr",
     "output_type": "stream",
     "text": [
      "`summarise()` ungrouping output (override with `.groups` argument)\n"
     ]
    },
    {
     "data": {
      "image/png": "[encoded data removed]",
      "text/plain": [
       "plot without title"
      ]
     },
     "metadata": {},
     "output_type": "display_data"
    }
   ],
   "source": [
    "dat %>%\n",
    "  group_by(SIGUNGU) %>% \n",
    "  summarise(TotalSpent_sum = round(sum(TotalSpent) / 100000000,1),\n",
    "            DisSpent_sum = round(sum(DisSpent) / 100000000,1)) %>%\n",
    "  mutate(DisSpent_ratio = round((DisSpent_sum / TotalSpent_sum),3)  * 100) %>%\n",
    "  ggplot(aes(x = SIGUNGU, y = TotalSpent_sum, fill = SIGUNGU)) +\n",
    "  geom_bar(stat='identity', color = 'black', width = 0.5) +\n",
    "  geom_text(aes(label=TotalSpent_sum), vjust=-0.4, size = 3.5, family = 'NanumGothic', fontface = 'bold') +\n",
    "  scale_fill_manual(values = c('skyblue', 'red')) + \n",
    "  theme_bw() +\n",
    "  ggtitle(\"제주시, 서귀포시 5~8월까지 총 이용금액 비교\") +\n",
    "  labs(x = \"시군구\", y = \"총 이용금액(억 원)\") +\n",
    "  theme(plot.title = element_text(size = 14, hjust = 0.5, family = 'NanumGothic', face = 'bold'),\n",
    "        axis.title = element_text(size = 11, family = 'NanumGothic', face = 'bold'),\n",
    "        legend.position = 'none')"
   ]
  },
  {
   "cell_type": "markdown",
   "metadata": {},
   "source": [
    "### 시별 월별 총 이용금액 비교"
   ]
  },
  {
   "cell_type": "markdown",
   "metadata": {},
   "source": [
    "* 그리고 월별 시별로도 비교해보기 위해 시각화를 진행했구요. 모두 3배 정도 제주시가 더 컸습니다. <br>\n",
    "20년 9월 기준 제주시의 인구 약 50만명, 서귀포 약19만명으로 보면 당연한 결과라고 생각합니다."
   ]
  },
  {
   "cell_type": "code",
   "execution_count": 11,
   "metadata": {},
   "outputs": [
    {
     "name": "stderr",
     "output_type": "stream",
     "text": [
      "`summarise()` regrouping output by 'SIGUNGU' (override with `.groups` argument)\n"
     ]
    },
    {
     "data": {
      "image/png": "[encoded data removed]",
      "text/plain": [
       "plot without title"
      ]
     },
     "metadata": {},
     "output_type": "display_data"
    }
   ],
   "source": [
    "dat %>%\n",
    "  group_by(SIGUNGU, YM) %>% \n",
    "  summarise(TotalSpent_sum = round(sum(TotalSpent) / 100000000,1),\n",
    "            DisSpent_sum = round(sum(DisSpent) / 100000000,1)) %>%\n",
    "  mutate(DisSpent_ratio = round((DisSpent_sum / TotalSpent_sum),3)  * 100) %>%\n",
    "  ggplot(aes(x = YM, y = TotalSpent_sum, fill = SIGUNGU)) +\n",
    "  geom_bar(stat='identity', position = 'dodge', color = 'black') +\n",
    "  scale_fill_brewer(palette = 'Blues') +\n",
    "  geom_text(aes(label=TotalSpent_sum), vjust=-0.4, size = 3, \n",
    "            position=position_dodge(.85),\n",
    "            family = 'NanumGothic', fontface = 'bold') +\n",
    "  theme_bw() +\n",
    "  ggtitle(\"시별 월별 총 이용금액 비교\") +\n",
    "  labs(x = \"월\", y = \"총 이용금액(억 원)\") + \n",
    "  lims(y = c(0,2000)) +\n",
    "  theme(plot.title = element_text(size = 14, hjust = 0.5, family = 'NanumGothic', face = 'bold'),\n",
    "        axis.title = element_text(size = 11, family = 'NanumGothic', face = 'bold'))"
   ]
  },
  {
   "cell_type": "markdown",
   "metadata": {},
   "source": [
    "### 읍면동별 총 이용금액 TOP10\n",
    "여기서는 따로 법정읍면동 shp 파일과 제공된 데이터를 QGIS를 이용해서 교차분석을 통해 읍면동에 대한 좌표들을 매핑시켰습니다. 데이터는 구글드라이브에 공유해보도록 하겠습니다.\n",
    "* 먼저 제주시와 서귀포를 나누지 않고 전체에 대한 총이용금액 TOP10인 읍면동을 시각화해봤습니다.\n",
    "* 결과는 대부분이 제주시에 속해 있는 읍면동(연동~애월읍 등)이 차지하구요 이 중에 서귀포시인 서귀동과 안덕면이 TOP10안에 들어 갔네요"
   ]
  },
  {
   "cell_type": "code",
   "execution_count": 14,
   "metadata": {},
   "outputs": [
    {
     "name": "stderr",
     "output_type": "stream",
     "text": [
      "`summarise()` regrouping output by 'EMD_CD' (override with `.groups` argument)\n"
     ]
    },
    {
     "data": {
      "image/png": "[encoded data removed]",
      "text/plain": [
       "plot without title"
      ]
     },
     "metadata": {},
     "output_type": "display_data"
    }
   ],
   "source": [
    "emd_total_df <- read.csv('total_spent-num_emd.csv')\n",
    "emd_total_df %>%\n",
    "  mutate(EMD_CD = as.character(EMD_CD)) %>%\n",
    "  group_by(EMD_CD, EMD_KOR_NM) %>%\n",
    "  summarise(TotalSpent_sum = sum(TotalSpent),\n",
    "            DisSpent_sum = sum(DisSpent_s),\n",
    "            NumofSpent_sum = sum(NumofSpent),\n",
    "            NumofDisSpent_sum = sum(NumofDisSp)) -> emd_sum_df\n",
    "\n",
    "emd_sum_df %>% arrange(desc(TotalSpent_sum)) %>% head(10) %>%\n",
    "  ggplot(aes(x = reorder(EMD_KOR_NM, TotalSpent_sum), y = TotalSpent_sum / 100000000, fill = TotalSpent_sum)) +\n",
    "  geom_bar(stat = 'identity', color = 'black') +\n",
    "  coord_flip() + theme_bw() +\n",
    "  ggtitle(\"읍면동별 총 이용금액\") +\n",
    "  labs(x = \"\", y = \"총 이용금액(억 원)\") + \n",
    "  lims(y = c(0,800)) +\n",
    "  theme(plot.title = element_text(size = 13, hjust = 0.5, family = 'NanumGothic', face = 'bold'),\n",
    "        axis.title = element_text(size = 10, family = 'NanumGothic', face = 'bold'),\n",
    "        axis.text.y = element_text(size = 9),\n",
    "        legend.position = 'none')"
   ]
  },
  {
   "cell_type": "markdown",
   "metadata": {},
   "source": [
    "### 제주시 읍면동 총 이용금액"
   ]
  },
  {
   "cell_type": "markdown",
   "metadata": {},
   "source": [
    "* 제주시에서는 연동, 노형동, 용담이동, 이도이동, 애월읍 순으로 이용금액이 많다고 나타났습니다. \n",
    "* 연동과 노형은 인구수가 제주도에서 밀집되어 있는 지역이며, 많은 사람들의 왕래가 있고 가게들 그리고 면세점이 위치해 있기에 이용금액이 높게 나타난 것으로 생각합니다.."
   ]
  },
  {
   "cell_type": "code",
   "execution_count": 42,
   "metadata": {},
   "outputs": [
    {
     "data": {
      "image/png": "[encoded data removed]",
      "text/plain": [
       "plot without title"
      ]
     },
     "metadata": {},
     "output_type": "display_data"
    }
   ],
   "source": [
    "emd_sum_df %>%\n",
    "  filter(substr(EMD_CD, 1, 4) == '5011') %>%\n",
    "  ggplot(aes(x = reorder(EMD_KOR_NM, TotalSpent_sum), y = TotalSpent_sum / 100000000, fill = TotalSpent_sum)) +\n",
    "  geom_bar(stat = 'identity', color = 'black') +\n",
    "  coord_flip() + theme_bw() +\n",
    "  ggtitle(\"제주시 읍면동 총 이용금액\") +\n",
    "  labs(x = \"\", y = \"총 이용금액(억 원)\") + \n",
    "  lims(y = c(0,800)) +\n",
    "  theme(plot.title = element_text(size = 13, hjust = 0.5, family = 'NanumGothic', face = 'bold'),\n",
    "        axis.title = element_text(size = 10, family = 'NanumGothic', face = 'bold'),\n",
    "        axis.text.y = element_text(size = 7),\n",
    "        legend.position = 'none')"
   ]
  },
  {
   "cell_type": "markdown",
   "metadata": {},
   "source": [
    "### 서귀포시 읍면동 총 이용금액"
   ]
  },
  {
   "cell_type": "markdown",
   "metadata": {},
   "source": [
    "* 서귀포시는 먼저 서귀포의 시내라고 할 수 있는 서귀동에서 많은 이용이 있는 것으로 보이구요. <br>그 다음 큰 안덕면, 성산읍 순으로 이용금액이 많은 걸 확인할 수 있습니다. (서귀포는 관광지가 많음으로 관광에 대한 소비가 많이 이뤄지는 곳입니다.)"
   ]
  },
  {
   "cell_type": "code",
   "execution_count": 43,
   "metadata": {},
   "outputs": [
    {
     "data": {
      "image/png": "[encoded data removed]",
      "text/plain": [
       "plot without title"
      ]
     },
     "metadata": {},
     "output_type": "display_data"
    }
   ],
   "source": [
    "emd_sum_df %>%\n",
    "  filter(substr(EMD_CD, 1, 4) == '5013') %>%\n",
    "  ggplot(aes(x = reorder(EMD_KOR_NM, TotalSpent_sum), y = TotalSpent_sum / 100000000, fill = TotalSpent_sum)) +\n",
    "  geom_bar(stat = 'identity', color = 'black') +\n",
    "  coord_flip() + theme_bw() +\n",
    "  ggtitle(\"서귀포시 읍면동 총 이용금액\") +\n",
    "  labs(x = \"\", y = \"총 이용금액(억 원)\") + \n",
    "  lims(y = c(0,300)) +\n",
    "  theme(plot.title = element_text(size = 13, hjust = 0.5, family = 'NanumGothic', face = 'bold'),\n",
    "        axis.title = element_text(size = 10, family = 'NanumGothic', face = 'bold'),\n",
    "        axis.text.y = element_text(size = 7),\n",
    "        legend.position = 'none')"
   ]
  },
  {
   "cell_type": "markdown",
   "metadata": {},
   "source": [
    "### 월별 총 이용금액 비교"
   ]
  },
  {
   "cell_type": "markdown",
   "metadata": {},
   "source": [
    "* 제주 월별로 총 이용금액의 추이를 살펴보기위해 시각화를 해봤습니다. <br>제주도의 성수기라고  할 수 있는 여름철에 7~8이 상승하는 것을 볼 수 있습니다. 코로나로 인해 2019년에 비해 총 이용금액이 많이 줄었기는 하지만 해외여행을 가지고 못하는 분들이 제주 여행을 대안으로 많이 오시기에 어느정도는 높게 유지 됐다고 생각합니다."
   ]
  },
  {
   "cell_type": "code",
   "execution_count": 19,
   "metadata": {},
   "outputs": [
    {
     "name": "stderr",
     "output_type": "stream",
     "text": [
      "`summarise()` ungrouping output (override with `.groups` argument)\n"
     ]
    },
    {
     "data": {
      "image/png": "[encoded data removed]",
      "text/plain": [
       "plot without title"
      ]
     },
     "metadata": {},
     "output_type": "display_data"
    }
   ],
   "source": [
    "dat %>%\n",
    "  group_by(YM) %>% \n",
    "  summarise(TotalSpent_sum = round(sum(TotalSpent) / 100000000,1),\n",
    "            DisSpent_sum = round(sum(DisSpent) / 100000000,1)) %>%\n",
    "  mutate(DisSpent_ratio = round((DisSpent_sum / TotalSpent_sum),3)  * 100) %>%\n",
    "  ggplot(aes(x = as.numeric(YM), y = TotalSpent_sum)) +\n",
    "  geom_bar(stat='identity', color = 'black', width = 0.5, fill = 'skyblue') +\n",
    "  geom_line() + geom_point() +\n",
    "  geom_text(aes(label=TotalSpent_sum), vjust=-0.4, size = 3.5, family = 'NanumGothic', fontface = 'bold') +\n",
    "  theme_bw() +\n",
    "  ggtitle(\"월별 총 이용금액 비교\") +\n",
    "  labs(x = \"월\", y = \"총 이용금액(억 원)\") + \n",
    "  lims(y = c(0,2000)) +\n",
    "  theme(plot.title = element_text(size = 14, hjust = 0.5, family = 'NanumGothic', face = 'bold'),\n",
    "        axis.title = element_text(size = 11, family = 'NanumGothic', face = 'bold'),\n",
    "        legend.position = 'none')"
   ]
  },
  {
   "cell_type": "markdown",
   "metadata": {},
   "source": [
    "### 월별 시간별 이용금액"
   ]
  },
  {
   "cell_type": "markdown",
   "metadata": {},
   "source": [
    "* 이제 시간별로 총 이용금액의 추이를 살펴보겠습니다. <br>\n",
    "아침 6시를 시작으로 12시까지 가파르게 증가하고 12시에 최고점을 찍은 후 조금씩 내려가다가 6~8시 저녁시간이 지난 시간에 뚝 떨어지는 패턴이 있습니다.<br> 많은 관광객과 도민들이 아침부터 오후까지의 소비가 가장 많이 이뤄지는거 같습니다."
   ]
  },
  {
   "cell_type": "code",
   "execution_count": 20,
   "metadata": {},
   "outputs": [
    {
     "name": "stderr",
     "output_type": "stream",
     "text": [
      "`summarise()` regrouping output by 'YM' (override with `.groups` argument)\n"
     ]
    },
    {
     "data": {
      "image/png": "[encoded data removed]",
      "text/plain": [
       "plot without title"
      ]
     },
     "metadata": {},
     "output_type": "display_data"
    }
   ],
   "source": [
    "dat %>%\n",
    "  filter(Time != 'x시') %>%\n",
    "  group_by(YM, Time) %>%\n",
    "  summarise(TotalSpent_sum = round(sum(TotalSpent) / 100000000,1)) %>%\n",
    "  ggplot(aes(x = Time, y = TotalSpent_sum, group = as.character(YM), color = as.character(YM))) +\n",
    "  geom_line(size = 1) +\n",
    "  scale_x_discrete(breaks = c('00시', '03시','06시','09시', '12시','15시','18시', '21시', '23시')) + \n",
    "  scale_color_discrete(name=\"월별\") +\n",
    "  ggtitle(\"월별 시간별 총 이용금액\") +\n",
    "  labs(x = \"시간\", y = \"총 이용금액(억 원)\") +\n",
    "  theme_bw() +\n",
    "  theme(plot.title = element_text(size = 14, hjust = 0.5, family = 'NanumGothic', face = 'bold'),\n",
    "        axis.title = element_text(size = 11, family = 'NanumGothic', face = 'bold'),\n",
    "        axis.text.x = element_text(angle = 90, vjust = 0.3, hjust = 0.5))"
   ]
  },
  {
   "cell_type": "markdown",
   "metadata": {},
   "source": [
    "### 시간대별 이용금액"
   ]
  },
  {
   "cell_type": "markdown",
   "metadata": {},
   "source": [
    "* 좀 더 간단하게 시간대별로 나타내보면 아침-점심-저녁의 9 to 18~저녁에 사람들의 소비가 이뤄집니다."
   ]
  },
  {
   "cell_type": "code",
   "execution_count": 22,
   "metadata": {},
   "outputs": [
    {
     "name": "stderr",
     "output_type": "stream",
     "text": [
      "`summarise()` ungrouping output (override with `.groups` argument)\n"
     ]
    },
    {
     "data": {
      "image/png": "[encoded data removed]",
      "text/plain": [
       "plot without title"
      ]
     },
     "metadata": {},
     "output_type": "display_data"
    }
   ],
   "source": [
    "dat %>%\n",
    "  group_by(timeName) %>%\n",
    "  summarise(TotalSpent_sum = round(sum(TotalSpent) / 100000000),1) %>%\n",
    "  ggplot(aes(x = timeName, y = TotalSpent_sum, fill = timeName)) +\n",
    "  geom_bar(stat='identity', color = 'black') +\n",
    "  geom_text(aes(label=TotalSpent_sum), vjust=-0.4, size = 3, \n",
    "            position=position_dodge(.85),\n",
    "            family = 'NanumGothic', fontface = 'bold') +\n",
    "  theme_bw() +\n",
    "  scale_fill_brewer(palette = 'Spectral') +\n",
    "  ggtitle(\"시간대별 총 이용금액\") +\n",
    "  labs(x = \"시간대\", y = \"총 이용금액(억 원)\") +\n",
    "  theme(plot.title = element_text(size = 14, hjust = 0.5, family = 'NanumGothic', face = 'bold'),\n",
    "        axis.title = element_text(size = 11, family = 'NanumGothic', face = 'bold'),\n",
    "        legend.position = 'none')"
   ]
  },
  {
   "cell_type": "markdown",
   "metadata": {},
   "source": [
    "### 소상공인별 개수와 총 이용금액"
   ]
  },
  {
   "cell_type": "markdown",
   "metadata": {},
   "source": [
    "* 소상공인타입별로 개수를 세어 봤는데요 월매출이 3억 이하인 영세 소상공인들이 월등히 많은걸 확인할 수 있습니다. \n",
    "* 그래서 당연히 총 이용금액은 영세 소상공인들이 높을 줄 알았으나, 일반(대형) 소상공인에서 총 이용금액이 가장 크게 나타났습니다. <br>\n",
    "더 들어가 사람들이 어떤 업종에서 많이 쓰는지를 비교해봐야 정확한 결과를 알 수 있겠지만, 대형마트, 면세점에 대한 소비와 이용이 많은 걸로 추측해 볼 수 있습니다. 밑에서 살펴보도록하죠"
   ]
  },
  {
   "cell_type": "code",
   "execution_count": 36,
   "metadata": {},
   "outputs": [
    {
     "name": "stderr",
     "output_type": "stream",
     "text": [
      "`summarise()` ungrouping output (override with `.groups` argument)\n",
      "`summarise()` ungrouping output (override with `.groups` argument)\n"
     ]
    },
    {
     "data": {
      "image/png": "[encoded data removed]",
      "text/plain": [
       "plot without title"
      ]
     },
     "metadata": {},
     "output_type": "display_data"
    }
   ],
   "source": [
    "# 소상공인별 숫자\n",
    "dat %>%\n",
    "  group_by(FranClass) %>%\n",
    "  summarise(n = n()) %>%\n",
    "  ggplot(aes(x = FranClass, y = n, fill = FranClass)) +\n",
    "  geom_bar(stat='identity', color = 'black') +\n",
    "  theme_bw() +\n",
    "  scale_fill_brewer(palette = 'Spectral') +\n",
    "  geom_text(aes(label=n), vjust= 0.5, size = 3, \n",
    "            position=position_dodge(.85),\n",
    "            family = 'NanumGothic', fontface = 'bold') +\n",
    "  theme_bw() +\n",
    "  ggtitle(\"소상공인별 개수\") +\n",
    "  labs(x = \"소상공인\", y = \"총 이용금액(억 원)\") + \n",
    "  theme(plot.title = element_text(size = 14, hjust = 0.5, family = 'NanumGothic', face = 'bold'),\n",
    "        axis.title = element_text(size = 11, family = 'NanumGothic', face = 'bold'),\n",
    "        legend.position = 'none') -> p1\n",
    "\n",
    "# 소상공인별 총 이용금액\n",
    "dat %>%\n",
    "  group_by(FranClass) %>%\n",
    "  summarise(TotalSpent_sum = round(sum(TotalSpent) / 100000000,1)) %>%\n",
    "  ggplot(aes(x = FranClass, y = TotalSpent_sum, fill = FranClass)) +\n",
    "  geom_bar(stat='identity', color = 'black') +\n",
    "  theme_bw() +\n",
    "  scale_fill_brewer(palette = 'Spectral') +\n",
    "  geom_text(aes(label=TotalSpent_sum), vjust=0.5, size = 3, \n",
    "            position=position_dodge(.85),\n",
    "            family = 'NanumGothic', fontface = 'bold') +\n",
    "  theme_bw() +\n",
    "  ggtitle(\"소상공인별 총 이용금액\") +\n",
    "  labs(x = \"소상공인\", y = \"총 이용금액(억 원)\") + \n",
    "  theme(plot.title = element_text(size = 14, hjust = 0.5, family = 'NanumGothic', face = 'bold'),\n",
    "        axis.title = element_text(size = 11, family = 'NanumGothic', face = 'bold'),\n",
    "        legend.position = 'none') -> p2\n",
    "\n",
    "grid.arrange(p1,p2)"
   ]
  },
  {
   "cell_type": "markdown",
   "metadata": {},
   "source": [
    "### 큰 차이가 있는 소상공인 영세와 일반만 업종별로 비교해보자"
   ]
  },
  {
   "cell_type": "markdown",
   "metadata": {},
   "source": [
    "* 영세 소상공인은 일반한식에 대한 소비가 월등히 높으며 다른 업종들은 대개 낮습니다. 하지만 일반(대형)은 영세에 비해\n",
    "골고루 전체가 높으며, 대형마트(이마트, 롯데마트 등), 면세점, 주유소 등 사람들이 많이 찾고 소비하는 업종들이 분포가 많이 되어 있습니다.\n",
    "<br> 영세는 대개 각 개인의 가게들로 이뤄져있지만 일반 대형은 프렌차이즈, 대기업들이 운영하는 곳이 많아 큰 차이가 있는 것으로 보입니다."
   ]
  },
  {
   "cell_type": "code",
   "execution_count": 33,
   "metadata": {},
   "outputs": [
    {
     "name": "stderr",
     "output_type": "stream",
     "text": [
      "`summarise()` ungrouping output (override with `.groups` argument)\n",
      "`summarise()` ungrouping output (override with `.groups` argument)\n"
     ]
    },
    {
     "data": {
      "image/png": "[encoded data removed]",
      "text/plain": [
       "plot without title"
      ]
     },
     "metadata": {},
     "output_type": "display_data"
    }
   ],
   "source": [
    "dat %>%\n",
    "  filter(FranClass == '영세') %>%\n",
    "  group_by(Type) %>%\n",
    "  summarise(TotalSpent_sum = round(sum(TotalSpent) / 100000000,1)) %>%\n",
    "  arrange(desc(TotalSpent_sum)) %>% head(10) %>%\n",
    "  ggplot(aes(x = reorder(Type, TotalSpent_sum), y = TotalSpent_sum, fill = TotalSpent_sum)) +\n",
    "  geom_bar(stat='identity', color = 'black') +\n",
    "  theme_bw() +\n",
    "  coord_flip() +\n",
    "  ggtitle(\"영세 소상공인 업종별 총 이용금액\") +\n",
    "  labs(x = \"영세\", y = \"총 이용금액(억 원)\") + \n",
    "  theme(plot.title = element_text(size = 14, hjust = 0.5, family = 'NanumGothic', face = 'bold'),\n",
    "        axis.title = element_text(size = 11, family = 'NanumGothic', face = 'bold'),\n",
    "        legend.position = 'none') -> p1\n",
    "\n",
    "dat %>%\n",
    "  filter(FranClass == '일반') %>%\n",
    "  group_by(Type) %>%\n",
    "  summarise(TotalSpent_sum = round(sum(TotalSpent) / 100000000,1)) %>%\n",
    "  arrange(desc(TotalSpent_sum)) %>% head(10) %>%\n",
    "  ggplot(aes(x = reorder(Type, TotalSpent_sum), y = TotalSpent_sum, fill = TotalSpent_sum)) +\n",
    "  geom_bar(stat='identity', color = 'black') +\n",
    "  theme_bw() +\n",
    "  coord_flip() +\n",
    "  ggtitle(\"일반(대형) 소상공인 업종별 총 이용금액\") +\n",
    "  labs(x = \"일반\", y = \"총 이용금액(억 원)\") + \n",
    "  theme(plot.title = element_text(size = 14, hjust = 0.5, family = 'NanumGothic', face = 'bold'),\n",
    "        axis.title = element_text(size = 11, family = 'NanumGothic', face = 'bold'),\n",
    "        legend.position = 'none') -> p2\n",
    "\n",
    "grid.arrange(p1,p2)"
   ]
  },
  {
   "cell_type": "markdown",
   "metadata": {},
   "source": [
    "### 5~8월 총 이용금액 TOP10 업종"
   ]
  },
  {
   "cell_type": "markdown",
   "metadata": {},
   "source": [
    "* 다시 다른 조건들을 제외한 5~8월에 소비한 총 이용금액 TOP10 업종을 살펴보겠습니다. <br>\n",
    "아침,점심,저녁 등 끼니를 채울 수 있는 음식점 일반한식이 1등으로 자리 잡았고 그 다음으로 마켓, 편의점 그리고 면세점순으로 총 이용금액이 높게 나타났습니다."
   ]
  },
  {
   "cell_type": "code",
   "execution_count": 38,
   "metadata": {},
   "outputs": [
    {
     "name": "stderr",
     "output_type": "stream",
     "text": [
      "`summarise()` ungrouping output (override with `.groups` argument)\n"
     ]
    },
    {
     "data": {
      "image/png": "[encoded data removed]",
      "text/plain": [
       "plot without title"
      ]
     },
     "metadata": {},
     "output_type": "display_data"
    }
   ],
   "source": [
    "dat %>%\n",
    "  group_by(Type) %>% \n",
    "  summarise(TotalSpent_sum = round(sum(TotalSpent) / 100000000,1),\n",
    "            DisSpent_sum = round(sum(DisSpent) / 100000000,1)) %>%\n",
    "  mutate(DisSpent_ratio = round((DisSpent_sum / TotalSpent_sum),3)  * 100) %>%\n",
    "  arrange(desc(TotalSpent_sum)) %>% head(10) %>%\n",
    "  ggplot(aes(x = reorder(Type, TotalSpent_sum), y = TotalSpent_sum, fill = TotalSpent_sum)) +\n",
    "  geom_bar(stat='identity', color = 'black') +\n",
    "  geom_text(aes(label=TotalSpent_sum), vjust= -0.8,size=3,\n",
    "            fontface = 'bold', angle = 270) +\n",
    "  coord_flip() + \n",
    "  theme_bw() +\n",
    "  ggtitle(\"5~8월 총 이용금액 TOP10 업종\") +\n",
    "  labs(x = \"\", y = \"총 이용금액(억 원)\") + \n",
    "  lims(y = c(0,2000)) +\n",
    "  theme(plot.title = element_text(size = 14, family = 'NanumGothic', hjust = 0.5,face = 'bold'),\n",
    "        axis.title = element_text(size = 11,family = 'NanumGothic', face = 'bold'),\n",
    "        legend.position = 'none')"
   ]
  },
  {
   "cell_type": "markdown",
   "metadata": {},
   "source": [
    "### 시별 이용금액 TOP10 업종"
   ]
  },
  {
   "cell_type": "markdown",
   "metadata": {},
   "source": [
    "* 별다른 의미는 없지만 각 시마다 어떤 업종들에 차이가 있는지 확인하려보 시각화 해봤습니다. <br>\n",
    "큰차이는 보이지않지만 제주시는 면세점, 서귀포시는 골프장, 호텔, 콘도에 차이를 보이고 있습니다. 서귀포 중문관광단지의 호텔들 그리고 골프장들이 많이 있어 차이가 있는거 같습니다."
   ]
  },
  {
   "cell_type": "code",
   "execution_count": 26,
   "metadata": {},
   "outputs": [
    {
     "name": "stderr",
     "output_type": "stream",
     "text": [
      "`summarise()` regrouping output by 'SIGUNGU' (override with `.groups` argument)\n",
      "`summarise()` regrouping output by 'SIGUNGU' (override with `.groups` argument)\n"
     ]
    },
    {
     "data": {
      "image/png": "[encoded data removed]",
      "text/plain": [
       "plot without title"
      ]
     },
     "metadata": {},
     "output_type": "display_data"
    }
   ],
   "source": [
    "dat %>%\n",
    "  group_by(SIGUNGU, Type) %>% \n",
    "  filter(SIGUNGU == 'jeju-si') %>%\n",
    "  summarise(TotalSpent_sum = round(sum(TotalSpent) / 100000000,1),\n",
    "            DisSpent_sum = round(sum(DisSpent) / 100000000,1)) %>%\n",
    "  mutate(DisSpent_ratio = round((DisSpent_sum / TotalSpent_sum),3)  * 100) %>%\n",
    "  arrange(desc(TotalSpent_sum)) %>% head(10) %>%\n",
    "  ggplot(aes(x = reorder(Type, TotalSpent_sum), y = TotalSpent_sum, fill = TotalSpent_sum)) +\n",
    "  geom_bar(stat='identity', color = 'black') +\n",
    "  coord_flip() + \n",
    "  theme_bw() +\n",
    "  ggtitle(\"5~8월 총 이용금액 TOP10 업종(시별)\") +\n",
    "  labs(x = \"제주시\", y = \"\") + \n",
    "  lims(y = c(0,1000)) +\n",
    "  theme(plot.title = element_text(size = 13, hjust = 0.5, family = 'NanumGothic', face = 'bold'),\n",
    "        axis.title = element_text(size = 11, family = 'NanumGothic', face = 'bold'),\n",
    "        legend.position = 'none') -> p1\n",
    "\n",
    "dat %>%\n",
    "  group_by(SIGUNGU, Type) %>% \n",
    "  filter(SIGUNGU == 'seoguipo-si') %>%\n",
    "  summarise(TotalSpent_sum = round(sum(TotalSpent) / 100000000,1),\n",
    "            DisSpent_sum = round(sum(DisSpent) / 100000000,1)) %>%\n",
    "  mutate(DisSpent_ratio = round((DisSpent_sum / TotalSpent_sum),3)  * 100) %>%\n",
    "  arrange(desc(TotalSpent_sum)) %>% head(10) %>%\n",
    "  ggplot(aes(x = reorder(Type, TotalSpent_sum), y = TotalSpent_sum, fill = TotalSpent_sum)) +\n",
    "  geom_bar(stat='identity', color = 'black') +\n",
    "  coord_flip() + \n",
    "  theme_bw() +\n",
    "  labs(x = \"서귀포시\", y = \"총 이용금액(억 원)\") + \n",
    "  lims(y = c(0,1000)) +\n",
    "  theme(axis.title = element_text(size = 11, family = 'NanumGothic', face = 'bold'),\n",
    "        legend.position = 'none') -> p2\n",
    "grid.arrange(p1,p2)"
   ]
  },
  {
   "cell_type": "markdown",
   "metadata": {},
   "source": [
    "### 시간대별 업종 top5"
   ]
  },
  {
   "cell_type": "markdown",
   "metadata": {},
   "source": [
    "* 이제 마지막으로 시간대별로 어떤 업종에서의 총 이용금액이 많은지 살펴보도록하고 마무리하겠습니다. 이건 그냥 눈으로 보고 판단할 수 있으리라 생각합니다"
   ]
  },
  {
   "cell_type": "code",
   "execution_count": 40,
   "metadata": {
    "scrolled": false
   },
   "outputs": [
    {
     "name": "stderr",
     "output_type": "stream",
     "text": [
      "`summarise()` regrouping output by 'timeName' (override with `.groups` argument)\n",
      "`summarise()` regrouping output by 'timeName' (override with `.groups` argument)\n",
      "`summarise()` regrouping output by 'timeName' (override with `.groups` argument)\n"
     ]
    },
    {
     "data": {
      "image/png": "[encoded data removed]",
      "text/plain": [
       "plot without title"
      ]
     },
     "metadata": {},
     "output_type": "display_data"
    }
   ],
   "source": [
    "dat %>% \n",
    "  group_by(timeName, Type) %>%\n",
    "  summarise(TotalSpent_sum = round(sum(TotalSpent) / 100000000,1),\n",
    "            DisSpent_sum = round(sum(DisSpent) / 100000000,1)) %>%\n",
    "  mutate(DisSpent_ratio = round((DisSpent_sum / TotalSpent_sum),3)  * 100) %>%\n",
    "  filter(timeName == '오전') %>%\n",
    "  arrange(desc(TotalSpent_sum)) %>% head(5) %>%\n",
    "  ggplot(aes(x = reorder(Type, TotalSpent_sum), y = TotalSpent_sum)) +\n",
    "  geom_bar(stat='identity', color = 'black', width = 0.7, fill = 'skyblue')  +\n",
    "  theme_bw() +\n",
    "  ggtitle(\"시간대별 업종 TOP5\") +\n",
    "  labs(x = \"\", y = \"오전\") + \n",
    "  theme(plot.title = element_text(size = 14, hjust = 0.5, family = 'NanumGothic', face = 'bold'),\n",
    "        axis.title = element_text(size = 11, family = 'NanumGothic', face = 'bold'),\n",
    "        legend.position = 'none') -> p1\n",
    "dat %>% \n",
    "  group_by(timeName, Type) %>%\n",
    "  summarise(TotalSpent_sum = round(sum(TotalSpent) / 100000000,1),\n",
    "            DisSpent_sum = round(sum(DisSpent) / 100000000,1)) %>%\n",
    "  mutate(DisSpent_ratio = round((DisSpent_sum / TotalSpent_sum),3)  * 100) %>%\n",
    "  filter(timeName == '점심') %>%\n",
    "  arrange(desc(TotalSpent_sum)) %>% head(5) %>%\n",
    "  ggplot(aes(x = reorder(Type, TotalSpent_sum), y = TotalSpent_sum)) +\n",
    "  geom_bar(stat='identity', color = 'black', width = 0.7, fill = 'Orange')  +\n",
    "  theme_bw() +\n",
    "  labs(x = \"\", y = \"점심\") + \n",
    "  theme(plot.title = element_text(size = 14, hjust = 0.5, family = 'NanumGothic', face = 'bold'),\n",
    "        axis.title = element_text(size = 11, family = 'NanumGothic', face = 'bold')) -> p2\n",
    "dat %>% \n",
    "  group_by(timeName, Type) %>%\n",
    "  summarise(TotalSpent_sum = round(sum(TotalSpent) / 100000000,1),\n",
    "            DisSpent_sum = round(sum(DisSpent) / 100000000,1)) %>%\n",
    "  mutate(DisSpent_ratio = round((DisSpent_sum / TotalSpent_sum),3)  * 100) %>%\n",
    "  filter(timeName == '오후') %>%\n",
    "  arrange(desc(TotalSpent_sum)) %>% head(5) %>%\n",
    "  ggplot(aes(x = reorder(Type, TotalSpent_sum), y = TotalSpent_sum)) +\n",
    "  geom_bar(stat='identity', color = 'black', width = 0.7, fill = 'Red')  +\n",
    "  theme_bw() +\n",
    "  labs(x = \"\", y = \"오후\") + \n",
    "  theme(plot.title = element_text(size = 14, hjust = 0.5, family = 'NanumGothic', face = 'bold'),\n",
    "        axis.title = element_text(size = 11, family = 'NanumGothic', face = 'bold')) -> p3\n",
    "\n",
    "grid.arrange(p1,p2,p3, nrow = 3)"
   ]
  },
  {
   "cell_type": "code",
   "execution_count": 41,
   "metadata": {},
   "outputs": [
    {
     "name": "stderr",
     "output_type": "stream",
     "text": [
      "`summarise()` regrouping output by 'timeName' (override with `.groups` argument)\n",
      "`summarise()` regrouping output by 'timeName' (override with `.groups` argument)\n",
      "`summarise()` regrouping output by 'timeName' (override with `.groups` argument)\n"
     ]
    },
    {
     "data": {
      "image/png": "[encoded data removed]",
      "text/plain": [
       "plot without title"
      ]
     },
     "metadata": {},
     "output_type": "display_data"
    }
   ],
   "source": [
    "dat %>% \n",
    "  group_by(timeName, Type) %>%\n",
    "  summarise(TotalSpent_sum = round(sum(TotalSpent) / 100000000,1),\n",
    "            DisSpent_sum = round(sum(DisSpent) / 100000000,1)) %>%\n",
    "  mutate(DisSpent_ratio = round((DisSpent_sum / TotalSpent_sum),3)  * 100) %>%\n",
    "  filter(timeName == '저녁') %>%\n",
    "  arrange(desc(TotalSpent_sum)) %>% head(5) %>%\n",
    "  ggplot(aes(x = reorder(Type, TotalSpent_sum), y = TotalSpent_sum)) +\n",
    "  geom_bar(stat='identity', color = 'black', width = 0.7)  +\n",
    "  theme_bw() + \n",
    "  ggtitle(\"시간대별 업종TOP5\") +\n",
    "  labs(x = \"\", y = \"저녁\") + \n",
    "  theme(plot.title = element_text(size = 14, hjust = 0.5, family = 'NanumGothic', face = 'bold'),\n",
    "        axis.title = element_text(size = 11, family = 'NanumGothic', face = 'bold'))-> p4\n",
    "\n",
    "dat %>% \n",
    "  group_by(timeName, Type) %>%\n",
    "  summarise(TotalSpent_sum = round(sum(TotalSpent) / 100000000,1),\n",
    "            DisSpent_sum = round(sum(DisSpent) / 100000000,1)) %>%\n",
    "  mutate(DisSpent_ratio = round((DisSpent_sum / TotalSpent_sum),3)  * 100) %>%\n",
    "  filter(timeName == '심야') %>%\n",
    "  arrange(desc(TotalSpent_sum)) %>% head(5) %>%\n",
    "  ggplot(aes(x = reorder(Type, TotalSpent_sum), y = TotalSpent_sum)) +\n",
    "  geom_bar(stat='identity', color = 'black', width = 0.7, fill = 'black')  +\n",
    "  theme_bw() + \n",
    "  labs(x = \"\", y = \"심야\") + \n",
    "  theme(plot.title = element_text(size = 14, hjust = 0.5, family = 'NanumGothic', face = 'bold'),\n",
    "        axis.title = element_text(size = 11, family = 'NanumGothic', face = 'bold'))-> p5\n",
    "dat %>%  \n",
    "  group_by(timeName, Type) %>%\n",
    "  summarise(TotalSpent_sum = round(sum(TotalSpent) / 100000000,1),\n",
    "            DisSpent_sum = round(sum(DisSpent) / 100000000,1)) %>%\n",
    "  mutate(DisSpent_ratio = round((DisSpent_sum / TotalSpent_sum),3)  * 100) %>%\n",
    "  filter(timeName == '새벽') %>%\n",
    "  arrange(desc(TotalSpent_sum)) %>% head(5) %>%\n",
    "  ggplot(aes(x = reorder(Type, TotalSpent_sum), y = TotalSpent_sum)) +\n",
    "  geom_bar(stat='identity', color = 'black', width = 0.7, fill = 'Gray')  +\n",
    "  theme_bw() + \n",
    "  labs(x = \"\", y = \"새벽\") + \n",
    "  theme(plot.title = element_text(size = 14, hjust = 0.5, family = 'NanumGothic', face = 'bold'),\n",
    "        axis.title = element_text(size = 11, family = 'NanumGothic', face = 'bold'))-> p6\n",
    "\n",
    "grid.arrange(p4,p5,p6)\n",
    "rm(p1,p2,p3,p4,p5,p6)"
   ]
  },
  {
   "cell_type": "markdown",
   "metadata": {},
   "source": [
    "### 읍면동 R Shiny 시각화 (singleApp)"
   ]
  },
  {
   "cell_type": "markdown",
   "metadata": {},
   "source": [
    "* R shiny에 대한 지식이 부족하여 좀 더 공부하고 다시 깔끔하게 업로드 할 수 있으면 해보겠습니다 <br>\n",
    "현재는 단지 leaflet을 이용한 지도 시각화를 shiny상에 띄우기만 했습니다.\n",
    "* 여기서 생각해볼만 한 것은 좌표점들이 격자내의 중심점 하나로 표현되었기 때문에 한점에 여러 소상공인들이 존재합니다. 그래서 따로 나눠서 생각해봐야한다고 생각합니다."
   ]
  },
  {
   "cell_type": "code",
   "execution_count": null,
   "metadata": {},
   "outputs": [],
   "source": [
    "library(shiny)\n",
    "library(tidyverse)\n",
    "library(leaflet)\n",
    "library(leaflet.extras)\n",
    "library(htmltools)\n",
    "library(htmlwidgets)\n",
    "library(RColorBrewer)\n",
    "library(scales)\n",
    "library(rgdal)\n",
    "library(sp)\n",
    "dat <- read.csv('KRI_DAC_Jeju.csv', fileEncoding = 'euc-kr')\n",
    "dat %>%\n",
    "    group_by(long, lat) %>%\n",
    "    summarise(TotalSpent_sum = round(sum(TotalSpent) / 100000000,2),\n",
    "              DisSpent_sum = round(sum(DisSpent) / 100000000,2),\n",
    "              NumofSpent_sum = sum(NumofSpent),\n",
    "              NumofDisSpent_sum = sum(NumofDisSpent)) -> dat_longlat\n",
    "#write.csv(dat_longlat, '5-8월_총이용금액+이용건수.csv')\n",
    "dat %>%\n",
    "    filter(FranClass == '일반' ) %>%\n",
    "    group_by(Type, long, lat) %>%\n",
    "    summarise(TotalSpent_sum = sum(TotalSpent),\n",
    "              NumofSpent_sum = sum(NumofSpent)) %>% \n",
    "    arrange(desc(TotalSpent_sum, NumofSpent_sum)) -> jeju_big_type\n",
    "dat %>%\n",
    "    filter(FranClass == '영세' ) %>%\n",
    "    group_by(Type, long, lat) %>%\n",
    "    summarise(TotalSpent_sum = sum(TotalSpent),\n",
    "              NumofSpent_sum = sum(NumofSpent)) %>% \n",
    "    arrange(desc(TotalSpent_sum, NumofSpent_sum)) -> jeju_small_type\n",
    "dat %>%\n",
    "    filter(FranClass == '중소' ) %>%\n",
    "    group_by(Type, long, lat) %>%\n",
    "    summarise(TotalSpent_sum = sum(TotalSpent),\n",
    "              NumofSpent_sum = sum(NumofSpent)) %>% \n",
    "    arrange(desc(TotalSpent_sum, NumofSpent_sum)) -> jeju_mid1_type\n",
    "dat %>%\n",
    "    filter(FranClass == '중소1' ) %>%\n",
    "    group_by(Type, long, lat) %>%\n",
    "    summarise(TotalSpent_sum = sum(TotalSpent),\n",
    "              NumofSpent_sum = sum(NumofSpent)) %>% \n",
    "    arrange(desc(TotalSpent_sum, NumofSpent_sum)) -> jeju_mid2_type\n",
    "dat %>%\n",
    "    filter(FranClass == '중소2' ) %>%\n",
    "    group_by(Type, long, lat) %>%\n",
    "    summarise(TotalSpent_sum = sum(TotalSpent),\n",
    "              NumofSpent_sum = sum(NumofSpent)) %>% \n",
    "    arrange(desc(TotalSpent_sum, NumofSpent_sum)) -> jeju_mid3_type\n",
    "\n",
    "#이용금액이 업종별 가장 많은 장소 TOP10 (제주시)\n",
    "dat %>%\n",
    "    filter(SIGUNGU == 'jeju-si') %>%\n",
    "    group_by(Type,long,lat) %>%\n",
    "    summarise(TotalSpent_sum = round(sum(TotalSpent) / 100000000,2),\n",
    "              NumofSpent_sum = sum(NumofSpent)) %>% \n",
    "    arrange(desc(TotalSpent_sum, NumofSpent_sum)) %>% head(100) -> total_jejusi_top100_type\n",
    "\n",
    "#이용금액이 업종별 가장 많은 장소 TOP10 (서귀포시)\n",
    "dat %>%\n",
    "    filter(SIGUNGU == 'seoguipo-si') %>%\n",
    "    group_by(Type,long,lat) %>%\n",
    "    summarise(TotalSpent_sum = round(sum(TotalSpent) / 100000000,2),\n",
    "              NumofSpent_sum = sum(NumofSpent)) %>% \n",
    "    arrange(desc(TotalSpent_sum, NumofSpent_sum)) %>% head(100) -> total_seogui_top100_type\n",
    "\n",
    "emd_total_df <- read.csv('total_spent-num_emd.csv', fileEncoding = 'euc-kr')\n",
    "emd_total_df %>%\n",
    "    mutate(EMD_CD = as.character(EMD_CD)) %>%\n",
    "    group_by(EMD_CD, EMD_KOR_NM) %>%\n",
    "    summarise(TotalSpent_sum = sum(TotalSpent),\n",
    "              DisSpent_sum = sum(DisSpent_s),\n",
    "              NumofSpent_sum = sum(NumofSpent),\n",
    "              NumofDisSpent_sum = sum(NumofDisSp)) -> emd_sum_df\n",
    "\n",
    "# 생산가능인구\n",
    "jeju_emd_val <- readOGR('vl_blk.shp')\n",
    "to.crs = CRS(\"+proj=longlat +ellps=WGS84 +datum=WGS84 +no_defs\")\n",
    "jeju_emd_val <- spTransform(jeju_emd_val, to.crs)\n",
    "jeju_emd_val@data <- jeju_emd_val@data[,c('gid','val')]\n",
    "jeju_emd_val@data <- rename(jeju_emd_val@data, \"EMD_CD\" = \"gid\")\n",
    "\n",
    "jeju_emd <- readOGR('jeju_emd.shp', encoding = 'euc-kr')\n",
    "to.crs = CRS(\"+proj=longlat +ellps=WGS84 +datum=WGS84 +no_defs\") # 좌표변환\n",
    "jeju_emd <- spTransform(jeju_emd, to.crs)\n",
    "jeju_emd@data <- inner_join(jeju_emd@data, emd_sum_df)\n",
    "\n",
    "jeju_emd@data <- inner_join(jeju_emd@data, jeju_emd_val@data)\n",
    "head(jeju_emd@data) \n",
    "rm(jeju_emd_val); rm(emd_sum_df); rm(emd_total_df);\n",
    "\n",
    "labels <- sprintf(\n",
    "    \"<strong>%s</strong><br/>총 %g억 원 <br>총 이용건수: %g <br>생산가능인구: %g\",\n",
    "    jeju_emd@data$EMD_KOR_NM, round(jeju_emd@data$TotalSpent_sum / 100000000,2), jeju_emd@data$NumofSpent_sum, jeju_emd@data$val\n",
    ") %>% lapply(htmltools::HTML)\n",
    "bins_spent <- c(0, 100, 200, 300, 400, 500, Inf)\n",
    "bins_num <- c(1000, 5000, 10000, 50000, 100000, 500000, 1000000, Inf)\n",
    "bins_pop <- c(0, 1000, 5000, 10000, 20000, 30000, Inf)\n",
    "qpal <- colorQuantile('YlOrRd', domain = jeju_emd@data$NumofSpent_sum, n = 5 )\n",
    "pal <- colorBin(\"YlOrRd\", jeju_emd@data$TotalSpent_sum, bins = bins_spent)\n",
    "pal2 <- colorBin(\"YlOrRd\", jeju_emd@data$TotalSpent_sum, bins = bins_num)\n",
    "pal3 <- colorBin(\"YlOrRd\", jeju_emd@data$TotalSpent_sum, bins = bins_pop)\n",
    "\n",
    "ui <-  fillPage(\n",
    "    leafletOutput(\"mymap\", width = \"100%\",height = \"100%\")\n",
    ")\n",
    "\n",
    "# Define server logic required to draw a histogram\n",
    "server <- function(input, output) {\n",
    "    output$mymap <- renderLeaflet({\n",
    "        leaflet(jeju_emd) %>%\n",
    "            setView(lng = 126.7229, lat = 33.40035, zoom = 10) %>%\n",
    "            addTiles(group = \"OSM(default)\") %>%\n",
    "            addCircleMarkers(data = jeju_small_type,\n",
    "                             group = \"소상공인_영세\",\n",
    "                             lng = ~long, lat = ~lat,\n",
    "                             label = ~htmlEscape(Type), popup = ~paste0(\"총 \",comma(TotalSpent_sum, format = \"d\"),\"원\",\n",
    "                                                                        \"<br>\",\n",
    "                                                                        \"총 이용건수: \",NumofSpent_sum,\"건\"),\n",
    "                             radius = 5,\n",
    "                             color = 'red',\n",
    "                             stroke = FALSE, fillOpacity = 0.5) %>%\n",
    "            addCircleMarkers(data = jeju_big_type,\n",
    "                             group = \"소상공인_일반\",\n",
    "                             lng = ~long, lat = ~lat,\n",
    "                             label = ~htmlEscape(Type), popup = ~paste0(\"총 \",comma(TotalSpent_sum, format = \"d\"),\"원\",\n",
    "                                                                        \"<br>\",\n",
    "                                                                        \"총 이용건수: \",NumofSpent_sum,\"건\"),\n",
    "                             radius = 5,\n",
    "                             color = 'blue',\n",
    "                             stroke = FALSE, fillOpacity = 0.5) %>%\n",
    "            addCircleMarkers(data = jeju_mid1_type,\n",
    "                             group = \"소상공인_중소1\",\n",
    "                             lng = ~long, lat = ~lat,\n",
    "                             label = ~htmlEscape(Type), popup = ~paste0(\"총 \",comma(TotalSpent_sum, format = \"d\"),\"원\",\n",
    "                                                                        \"<br>\",\n",
    "                                                                        \"총 이용건수: \",NumofSpent_sum,\"건\"),\n",
    "                             radius = 5,\n",
    "                             color = 'orange',\n",
    "                             stroke = FALSE, fillOpacity = 0.5) %>%\n",
    "            addCircleMarkers(data = jeju_mid2_type,\n",
    "                             group = \"소상공인_중소2\",\n",
    "                             lng = ~long, lat = ~lat,\n",
    "                             label = ~htmlEscape(Type), popup = ~paste0(\"총 \",comma(TotalSpent_sum, format = \"d\"),\"원\",\n",
    "                                                                        \"<br>\",\n",
    "                                                                        \"총 이용건수: \",NumofSpent_sum,\"건\"),\n",
    "                             radius = 5,\n",
    "                             color = 'green',\n",
    "                             stroke = FALSE, fillOpacity = 0.5) %>%\n",
    "            addCircleMarkers(data = jeju_mid3_type,\n",
    "                             group = \"소상공인_중소3\",\n",
    "                             lng = ~long, lat = ~lat,\n",
    "                             label = ~htmlEscape(Type), popup = ~paste0(\"총 \",comma(TotalSpent_sum, format = \"d\"),\"원\",\n",
    "                                                                        \"<br>\",\n",
    "                                                                        \"총 이용건수: \",NumofSpent_sum,\"건\"),\n",
    "                             radius = 5,\n",
    "                             color = 'skyblue',\n",
    "                             stroke = FALSE, fillOpacity = 0.5) %>%\n",
    "            \n",
    "            \n",
    "            addMarkers(data = total_jejusi_top100_type,\n",
    "                       lng = ~long, lat = ~lat,\n",
    "                       label = ~htmlEscape(Type), popup = ~paste0(\"약\",as.character(TotalSpent_sum),\"억원\"),\n",
    "                       group = \"제주시 총이용금액 TOP100\") %>%\n",
    "            addMarkers(data = total_seogui_top100_type,\n",
    "                       lng = ~long, lat = ~lat,\n",
    "                       label = ~htmlEscape(Type), popup = ~paste0(\"약\",as.character(TotalSpent_sum),\"억원\"),\n",
    "                       group = '서귀포시 총이용금액 TOP100') %>%\n",
    "            \n",
    "            addHeatmap(data = dat_longlat,\n",
    "                       lng = ~long, lat = ~lat,\n",
    "                       intensity = ~NumofSpent_sum, blur = 30, max = 100000, radius = 20,\n",
    "                       group = \"총 이용건수 히트맵\") %>%\n",
    "            \n",
    "            addHeatmap(data = dat_longlat,\n",
    "                       lng = ~long, lat = ~lat,\n",
    "                       intensity = ~TotalSpent_sum, blur = 30, max = 10, radius = 20,\n",
    "                       group = \"총 이용금액 히트맵\") %>%\n",
    "            \n",
    "            addPolygons(data = jeju_emd,\n",
    "                        group = \"읍면동별_생산가능인구\",\n",
    "                        fillColor = ~pal3(val),\n",
    "                        weight = 1,  opacity = 1, color = \"black\", dashArray = \"1\", fillOpacity = 0.7,\n",
    "                        highlight = highlightOptions(\n",
    "                            weight = 5,\n",
    "                            color = \"#666\",\n",
    "                            dashArray = \"\",\n",
    "                            fillOpacity = 0.7,\n",
    "                            bringToFront = TRUE),\n",
    "                        label = labels,\n",
    "                        labelOptions = labelOptions(\n",
    "                            style = list(\"font-weight\" = \"normal\", padding = \"3px 8px\"),\n",
    "                            textsize = \"15px\",\n",
    "                            direction = \"auto\")) %>% \n",
    "            addLegend(pal = pal3, values = ~val, opacity = 0.7, \n",
    "                      title = \"생산가능인구\",\n",
    "                      labFormat = labelFormat(suffix = \"명\"),\n",
    "                      position = \"bottomleft\",\n",
    "                      group = \"읍면동별_생산가능인구\") %>%\n",
    "            \n",
    "            addPolygons(data = jeju_emd,\n",
    "                        group = \"읍면동별_총이용금액\",\n",
    "                        fillColor = ~pal(TotalSpent_sum / 100000000),\n",
    "                        weight = 1,  opacity = 1, color = \"black\", dashArray = \"1\", fillOpacity = 0.7,\n",
    "                        highlight = highlightOptions(\n",
    "                            weight = 5,\n",
    "                            color = \"#666\",\n",
    "                            dashArray = \"\",\n",
    "                            fillOpacity = 0.7,\n",
    "                            bringToFront = TRUE),\n",
    "                        label = labels,\n",
    "                        labelOptions = labelOptions(\n",
    "                            style = list(\"font-weight\" = \"normal\", padding = \"3px 8px\"),\n",
    "                            textsize = \"15px\",\n",
    "                            direction = \"auto\")) %>% \n",
    "            addLegend(pal = pal, values = ~TotalSpent_sum / 100000000, opacity = 0.7, \n",
    "                      title = \"총 이용금액\",\n",
    "                      labFormat = labelFormat(suffix = \"억 원\"),\n",
    "                      position = \"bottomleft\",\n",
    "                      group = \"읍면동별_총이용금액\") %>%\n",
    "            \n",
    "            addPolygons(data = jeju_emd,\n",
    "                        group = \"읍면동별_총이용건수\",\n",
    "                        fillColor = ~qpal(NumofSpent_sum),\n",
    "                        weight = 1,\n",
    "                        opacity = 1,\n",
    "                        color = \"black\",\n",
    "                        dashArray = \"1\",\n",
    "                        fillOpacity = 0.7,\n",
    "                        highlight = highlightOptions(\n",
    "                            weight = 5,\n",
    "                            color = \"#666\",\n",
    "                            dashArray = \"\",\n",
    "                            fillOpacity = 0.7,\n",
    "                            bringToFront = TRUE),\n",
    "                        label = labels,\n",
    "                        labelOptions = labelOptions(\n",
    "                            style = list(\"font-weight\" = \"normal\", padding = \"3px 8px\"),\n",
    "                            textsize = \"15px\",\n",
    "                            direction = \"auto\")) %>% \n",
    "            addLegend(pal = pal2, values = ~NumofSpent_sum, opacity = 0.7, \n",
    "                      title = \"총 이용건수\",\n",
    "                      labFormat = labelFormat(suffix = \"건\"),\n",
    "                      position = \"bottomleft\",\n",
    "                      group = \"읍면동별_총이용건수\") %>%\n",
    "            \n",
    "            addLayersControl(baseGroups = c(\"OSM(default)\"),\n",
    "                             overlayGroups = c(\"소상공인_영세\",\"소상공인_일반\",\"소상공인_중소1\",\"소상공인_중소2\",\"소상공인_중소3\",\n",
    "                                               \"제주시 총이용금액 TOP100\", \"서귀포시 총이용금액 TOP100\", \n",
    "                                               \"총 이용건수 히트맵\", \"총 이용금액 히트맵\",\n",
    "                                               \"읍면동별_생산가능인구\", \"읍면동별_총이용금액\", \"읍면동별_총이용건수\"),\n",
    "                             options = layersControlOptions(collapsed = FALSE)) %>%\n",
    "            hideGroup(c(\"제주시 총이용금액 TOP100\", \"서귀포시 총이용금액 TOP100\",\n",
    "                        \"총 이용건수 히트맵\", \"총 이용금액 히트맵\", \n",
    "                        \"읍면동별_총이용건수\", \"읍면동별_생산가능인구\",\n",
    "                        \"소상공인_영세\", \"소상공인_일반\",\"소상공인_중소1\",\"소상공인_중소2\",\"소상공인_중소3\"))\n",
    "    })\n",
    "}\n",
    "\n",
    "# Run the application \n",
    "shinyApp(ui = ui, server = server)\n"
   ]
  }
 ],
 "metadata": {
  "kernelspec": {
   "display_name": "R",
   "language": "R",
   "name": "ir"
  },
  "language_info": {
   "codemirror_mode": "r",
   "file_extension": ".r",
   "mimetype": "text/x-r-source",
   "name": "R",
   "pygments_lexer": "r",
   "version": "3.6.1"
  }
 },
 "nbformat": 4,
 "nbformat_minor": 4
}
